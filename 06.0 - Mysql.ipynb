{
 "cells": [
  {
   "cell_type": "code",
   "execution_count": null,
   "id": "usual-newark",
   "metadata": {},
   "outputs": [],
   "source": [
    "# The pymysql module is used to communicate with a mysql database \n",
    "# install the module"
   ]
  },
  {
   "cell_type": "code",
   "execution_count": null,
   "id": "desirable-bennett",
   "metadata": {},
   "outputs": [],
   "source": [
    "# discuss the database architecture"
   ]
  },
  {
   "cell_type": "code",
   "execution_count": null,
   "id": "clear-closing",
   "metadata": {},
   "outputs": [],
   "source": [
    "# login to phpmyadmin and create a table to store the storms.csv data (know not null, auto increment, primary)"
   ]
  },
  {
   "cell_type": "code",
   "execution_count": null,
   "id": "cultural-ensemble",
   "metadata": {},
   "outputs": [],
   "source": [
    "# run arbitrary SQL in phpmyadmin"
   ]
  },
  {
   "cell_type": "code",
   "execution_count": null,
   "id": "opponent-retailer",
   "metadata": {},
   "outputs": [],
   "source": [
    "# use the template below to create script which drops and then creates the storms table with the proper schema"
   ]
  },
  {
   "cell_type": "code",
   "execution_count": null,
   "id": "aerial-navigator",
   "metadata": {},
   "outputs": [],
   "source": [
    "# discuss the secrets file "
   ]
  },
  {
   "cell_type": "code",
   "execution_count": 2,
   "id": "certain-oasis",
   "metadata": {},
   "outputs": [
    {
     "data": {
      "text/plain": [
       "0"
      ]
     },
     "execution_count": 2,
     "metadata": {},
     "output_type": "execute_result"
    }
   ],
   "source": [
    "import pymysql\n",
    "import mysecrets\n",
    "\n",
    "conn = pymysql.connect(host=mysecrets.host, port=3306, user=mysecrets.user,\n",
    "                       passwd=mysecrets.passwd, db='is426', autocommit=True)\n",
    "\n",
    "cur = conn.cursor(pymysql.cursors.DictCursor)\n",
    "\n",
    "sql = '''DROP TABLE IF EXISTS `conlontj_test`;'''\n",
    "cur.execute(sql)\n",
    "\n",
    "\n",
    "sql = '''\n",
    "CREATE TABLE IF NOT EXISTS `conlontj_test` (\n",
    "  `id` int(5) NOT NULL AUTO_INCREMENT,\n",
    "  `device` varchar(10) NOT NULL,\n",
    "  `msg` varchar(20) NOT NULL,\n",
    "  PRIMARY KEY (`id`)\n",
    ") ENGINE=MyISAM DEFAULT CHARSET=latin1 AUTO_INCREMENT=1 ;\n",
    "'''\n",
    "cur.execute(sql)\n"
   ]
  },
  {
   "cell_type": "code",
   "execution_count": 3,
   "id": "cleared-power",
   "metadata": {},
   "outputs": [
    {
     "data": {
      "text/plain": [
       "1"
      ]
     },
     "execution_count": 3,
     "metadata": {},
     "output_type": "execute_result"
    }
   ],
   "source": [
    "sql = '''INSERT INTO `conlontj_test` (`device`, `msg`) VALUES (%s, %s);'''\n",
    "cur.execute(sql,('device_1','system start'))\n",
    "cur.execute(sql,('device_1','init'))"
   ]
  },
  {
   "cell_type": "code",
   "execution_count": 7,
   "id": "domestic-litigation",
   "metadata": {},
   "outputs": [
    {
     "name": "stdout",
     "output_type": "stream",
     "text": [
      "('E0:91:F5:DE:FA:4F', 'NETGEAR-5G')\n",
      "('E2:91:F5:DE:FA:51', 'bonesaw_Guest')\n",
      "('E0:91:F5:DE:FA:50', 'BONESAW_HQ')\n",
      "('E0:91:F5:5E:34:60', 'Happy_Clam')\n"
     ]
    }
   ],
   "source": [
    "import pymysql\n",
    "import mysecrets\n",
    "import csv\n",
    "\n",
    "conn = pymysql.connect(host=mysecrets.host, port=3306, user=mysecrets.user,\n",
    "                       passwd=mysecrets.passwd, db='is426', autocommit=True)\n",
    "\n",
    "cur = conn.cursor(pymysql.cursors.DictCursor)\n",
    "\n",
    "sql = '''DROP TABLE IF EXISTS `conlontj_wifi`;'''\n",
    "cur.execute(sql)\n",
    "\n",
    "sql = '''\n",
    "CREATE TABLE IF NOT EXISTS `conlontj_wifi` (\n",
    "  `id` int(6) NOT NULL AUTO_INCREMENT,\n",
    "  `mac` varchar(100) NOT NULL,\n",
    "  `ssid` varchar(200) NOT NULL,\n",
    "  PRIMARY KEY (`id`)\n",
    ") ENGINE=MyISAM DEFAULT CHARSET=latin1 AUTO_INCREMENT=1 ;\n",
    "'''\n",
    "cur.execute(sql)\n",
    "\n",
    "''''\n",
    "mac -> conv to upper case \n",
    "ssid -> ssid\n",
    "\n",
    "'''\n",
    "\n",
    "with open('data/wifi_list3.csv') as f:\n",
    "    data = [{k: str(v) for k, v in row.items()}\n",
    "        for row in csv.DictReader(f, skipinitialspace=True)]\n",
    "sql = '''INSERT INTO `conlontj_wifi` (`mac`, `ssid`) VALUES (%s, %s);'''\n",
    "n=0\n",
    "for row in data:\n",
    "  mac = row['mac'].upper()\n",
    "  tokens = (mac,row['ssid'])\n",
    "  \n",
    "  print(tokens)\n",
    "  cur.execute(sql,tokens)\n",
    "\n",
    "\n",
    "  \n"
   ]
  },
  {
   "cell_type": "code",
   "execution_count": null,
   "id": "rough-toddler",
   "metadata": {},
   "outputs": [],
   "source": []
  },
  {
   "cell_type": "markdown",
   "id": "permanent-footwear",
   "metadata": {},
   "source": [
    "To Know:\n",
    "* How to login to the VPN if off campus\n",
    "* How to sign into phpmyadmin\n",
    "* How to create a table in phpmyadmin (not null, auto increment, primary)\n",
    "* Best practices for fieldnames\n",
    "* Export arbitrary SQL and execute it in Python\n",
    "* What a cursor / connection is "
   ]
  },
  {
   "cell_type": "markdown",
   "id": "british-sacramento",
   "metadata": {},
   "source": [
    "What can go wrong:\n",
    "* Cannot connect to phpmyadmin\n",
    "* pymysql can't establish connection to DB\n",
    "* SQL errors - how to identify\n",
    "* Debug SQL syntax errors\n",
    "* trouble defining a function - tricks for too amny args or return values\n"
   ]
  },
  {
   "cell_type": "markdown",
   "id": "personal-effort",
   "metadata": {},
   "source": [
    "### Week group assignment\n",
    "\n",
    "\n",
    "* Pick a csv dataset from \"Kaggle\" or \"open nyc data\" \n",
    "  * It should have several columns - at least 6 \n",
    "  * It should not bee too big ( < 500k rows) IF the dataset is too large you may subset it using the technique below.\n",
    "  * Get your dataset approved before class Wednesday.\n",
    "* Create a Python Script which\n",
    "  * Creates the table with the proper data types (Drop the table first if it already exists)\n",
    "  * Inserts all the data from your file to the table.\n",
    "  * Runs one query on the table showing the number of rows\n",
    "  * Make sure your table field names have been normalized to lower case and underscores.\n",
    "* Schedule a 10 minute meeting and demo your script for the quiz grade this week.\n",
    "\n",
    "We will cover creating tables and running insert statements on a database Monday.  VJ will cover reading from a table using pymysql Wednesday.  You will have class time to work with your partner the remainder of Wendnesday's class.  You will demo your script Friday.\n",
    "\n",
    "Make sure your script:\n",
    "* Loads *all* the data from the CSV to mysql\n",
    "* Handles missing / blank data it a reasonable way (You can explain this during your demo)\n",
    "* Creates an auto increment primary key in the table.\n",
    "* Shows the total number of rows inserted before exiting.\n",
    "  "
   ]
  },
  {
   "cell_type": "code",
   "execution_count": 3,
   "id": "competitive-doubt",
   "metadata": {},
   "outputs": [],
   "source": [
    "# Create a smaller subset of a very large CSV:\n",
    "import csv\n",
    "\n",
    "#load the input file\n",
    "f1 = open('data/wifi_list.csv','r')\n",
    "reader = csv.reader(f1)\n",
    "\n",
    "#clear the destination file\n",
    "f = open('data/wifi_subset.csv', 'w', newline ='')\n",
    "f.write('')\n",
    "f.close()\n",
    "\n",
    "#open destination for appending \n",
    "f = open('data/wifi_subset.csv', 'a', newline ='')\n",
    "writer = csv.writer(f)\n",
    "n=0\n",
    "subset_size = 100\n",
    "for row in reader:\n",
    "    writer.writerow(row)\n",
    "    n+=1\n",
    "    if n > subset_size:\n",
    "        break\n",
    "f.close()"
   ]
  }
 ],
 "metadata": {
  "kernelspec": {
   "display_name": "Python 3.10.6 64-bit",
   "language": "python",
   "name": "python3"
  },
  "language_info": {
   "codemirror_mode": {
    "name": "ipython",
    "version": 3
   },
   "file_extension": ".py",
   "mimetype": "text/x-python",
   "name": "python",
   "nbconvert_exporter": "python",
   "pygments_lexer": "ipython3",
   "version": "3.10.6"
  },
  "vscode": {
   "interpreter": {
    "hash": "2d4d69e597880b9b60eb0be4f89ec7c27c2bb88050820adbecd4ead6dbb8e32e"
   }
  }
 },
 "nbformat": 4,
 "nbformat_minor": 5
}

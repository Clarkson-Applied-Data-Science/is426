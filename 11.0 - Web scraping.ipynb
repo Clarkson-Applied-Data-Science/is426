{
 "cells": [
  {
   "cell_type": "code",
   "execution_count": null,
   "metadata": {},
   "outputs": [],
   "source": [
    "'''\n",
    "- Webscraping concepts\n",
    "- When to use\n",
    "- Web technologies\n",
    "    -html,js,css\n",
    "    -DOM\n",
    "    -Ajax\n",
    "- URL parts - https://thecommunitycenter.org/json_events.php?start=2021-10-31&end=2021-12-12&cat=%5BShow+All%5D\n",
    "- parsing using split\n",
    "- robust scripts\n",
    "- parsing using bs4  \n",
    "\n",
    "'''"
   ]
  },
  {
   "cell_type": "code",
   "execution_count": null,
   "metadata": {},
   "outputs": [],
   "source": [
    "# find a website with some data to scrape."
   ]
  },
  {
   "cell_type": "code",
   "execution_count": null,
   "metadata": {},
   "outputs": [],
   "source": [
    "'''\n",
    "from bs4 import BeautifulSoup\n",
    "import requests\n",
    "url = 'https://forecast.weather.gov/MapClick.php?lat=40.646038900000065&lon=-79.90004439999996'\n",
    "r = requests.get(url)\n",
    "soup = BeautifulSoup(r.text, 'html.parser')\n",
    "for div in soup.find_all(\"div\"): #<div>\n",
    "    if div.get(\"id\") == 'current_conditions_detail':\n",
    "        i=0\n",
    "        for cell in div.find_all(\"td\"):\n",
    "            if i == 1:\n",
    "                print(cell.text)\n",
    "            if i == 3:\n",
    "                print(cell.text)\n",
    "            i+=1\n",
    "'''"
   ]
  }
 ],
 "metadata": {
  "language_info": {
   "name": "python"
  },
  "orig_nbformat": 4
 },
 "nbformat": 4,
 "nbformat_minor": 2
}

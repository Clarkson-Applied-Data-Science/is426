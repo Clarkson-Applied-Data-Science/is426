{
 "cells": [
  {
   "cell_type": "code",
   "execution_count": null,
   "id": "valid-motivation",
   "metadata": {},
   "outputs": [],
   "source": [
    "#Warm up\n",
    "# Write a script which inserts storms.csv into a table in mysql.  Only add the following fields:\n",
    "# name,type,year, category,area,start_date,end_date,duration\n",
    "#pay close attention to the types - datetime, int etc.\n",
    "# Review - howto get fieldnames, load to list of dictionaries, iteration, mysql types,transformations.\n",
    "\n",
    "import csv\n",
    "\n",
    "with open('data/storms.csv') as f:\n",
    "    data = [{k: str(v) for k, v in row.items()}\n",
    "        for row in csv.DictReader(f, skipinitialspace=True)]"
   ]
  },
  {
   "cell_type": "code",
   "execution_count": 4,
   "id": "ef986c11",
   "metadata": {},
   "outputs": [
    {
     "name": "stdout",
     "output_type": "stream",
     "text": [
      "device_1 system start\n",
      "device_1 init\n"
     ]
    }
   ],
   "source": [
    "# Reading form SQL.\n",
    "#Data returned from your query is stored in the the cursor.\n",
    "#This cursor can be used in a for loop to yeild dictionaries (called row below)\n",
    "sql = '''SELECT * FROM `conlontj_test`;'''\n",
    "cur.execute(sql)\n",
    "for row in cur:\n",
    "    print(row['device'],row['msg'])\n"
   ]
  },
  {
   "cell_type": "code",
   "execution_count": null,
   "id": "83e76296",
   "metadata": {},
   "outputs": [],
   "source": [
    "#Normalization\n",
    "\n"
   ]
  },
  {
   "cell_type": "markdown",
   "id": "8bf1354f",
   "metadata": {},
   "source": [
    "id | device | msg\n",
    "-- | ---- | -------\n",
    "1 | device_1 | system start\n",
    "2 | device_1 | init\n",
    "3 | device_2 | system start\n",
    "4 | device_3 | init\n",
    "5 | device_2 | load"
   ]
  },
  {
   "cell_type": "code",
   "execution_count": 5,
   "id": "handy-athens",
   "metadata": {},
   "outputs": [
    {
     "data": {
      "text/plain": [
       "1"
      ]
     },
     "execution_count": 5,
     "metadata": {},
     "output_type": "execute_result"
    }
   ],
   "source": [
    "sql = '''INSERT INTO `conlontj_test` (`device`, `msg`) VALUES (%s, %s);'''\n",
    "cur.execute(sql,('device_1','system start'))\n",
    "cur.execute(sql,('device_1','init'))\n",
    "cur.execute(sql,('device_2','system start'))\n",
    "cur.execute(sql,('device_3','init'))\n",
    "cur.execute(sql,('device_2','load'))"
   ]
  },
  {
   "cell_type": "code",
   "execution_count": 4,
   "id": "instant-guatemala",
   "metadata": {},
   "outputs": [
    {
     "data": {
      "text/plain": [
       "0"
      ]
     },
     "execution_count": 4,
     "metadata": {},
     "output_type": "execute_result"
    }
   ],
   "source": [
    "import pymysql\n",
    "import mysecrets\n",
    "\n",
    "conn = pymysql.connect(host=mysecrets.host, port=3306, user=mysecrets.user,\n",
    "                       passwd=mysecrets.passwd, db='is426', autocommit=True)\n",
    "\n",
    "cur = conn.cursor(pymysql.cursors.DictCursor)\n",
    "\n",
    "sql = '''DROP TABLE IF EXISTS `conlontj_test`;'''\n",
    "cur.execute(sql)\n",
    "\n",
    "\n",
    "sql = '''\n",
    "CREATE TABLE IF NOT EXISTS `conlontj_test` (\n",
    "  `id` int(5) NOT NULL AUTO_INCREMENT,\n",
    "  `device` varchar(10) NOT NULL,\n",
    "  `msg` varchar(20) NOT NULL,\n",
    "  PRIMARY KEY (`id`)\n",
    ") ENGINE=MyISAM DEFAULT CHARSET=latin1 AUTO_INCREMENT=1 ;\n",
    "'''\n",
    "cur.execute(sql)\n"
   ]
  },
  {
   "cell_type": "code",
   "execution_count": 7,
   "id": "28c7d654",
   "metadata": {},
   "outputs": [
    {
     "data": {
      "text/plain": [
       "0"
      ]
     },
     "execution_count": 7,
     "metadata": {},
     "output_type": "execute_result"
    }
   ],
   "source": [
    "# Normalizing table data on insert\n",
    "# Discuss cur.lastrowid\n",
    "\n",
    "import pymysql\n",
    "import mysecrets\n",
    "\n",
    "conn = pymysql.connect(host=mysecrets.host, port=3306, user=mysecrets.user,\n",
    "                       passwd=mysecrets.passwd, db='is426', autocommit=True)\n",
    "\n",
    "cur = conn.cursor(pymysql.cursors.DictCursor)\n",
    "\n",
    "sql = '''DROP TABLE IF EXISTS `conlontj_msgs`;'''\n",
    "cur.execute(sql)\n",
    "sql = '''\n",
    "CREATE TABLE IF NOT EXISTS `conlontj_msgs` (\n",
    "  `id` int(5) NOT NULL AUTO_INCREMENT,\n",
    "  `device` varchar(10) NOT NULL,\n",
    "  `msg` varchar(20) NOT NULL,\n",
    "  PRIMARY KEY (`id`)\n",
    ") ENGINE=MyISAM DEFAULT CHARSET=latin1 AUTO_INCREMENT=1 ;\n",
    "'''\n",
    "cur.execute(sql)\n",
    "\n",
    "sql = '''DROP TABLE IF EXISTS `conlontj_devices`;'''\n",
    "cur.execute(sql)\n",
    "sql = '''\n",
    "CREATE TABLE IF NOT EXISTS `conlontj_devices` (\n",
    "  `id` int(5) NOT NULL AUTO_INCREMENT,\n",
    "  `name` varchar(10) NOT NULL,\n",
    "  PRIMARY KEY (`id`)\n",
    ") ENGINE=MyISAM DEFAULT CHARSET=latin1 AUTO_INCREMENT=1 ;\n",
    "'''\n",
    "cur.execute(sql)\n",
    "\n",
    "\n",
    "\n"
   ]
  },
  {
   "cell_type": "code",
   "execution_count": 10,
   "id": "921452e4",
   "metadata": {},
   "outputs": [
    {
     "name": "stdout",
     "output_type": "stream",
     "text": [
      "3\n"
     ]
    }
   ],
   "source": [
    "sql = '''INSERT INTO `conlontj_devices` (`name`) VALUES (%s);'''\n",
    "cur.execute(sql,('device_1'))\n",
    "print(cur.lastrowid)"
   ]
  },
  {
   "cell_type": "code",
   "execution_count": null,
   "id": "0c5dacb7",
   "metadata": {},
   "outputs": [],
   "source": [
    "# write a script in python which used SQL to show the count of storms by region."
   ]
  },
  {
   "cell_type": "code",
   "execution_count": null,
   "id": "65774709",
   "metadata": {},
   "outputs": [],
   "source": [
    "# write a script in python which used SQL to show the storms which lasted the longest (duration)"
   ]
  },
  {
   "cell_type": "markdown",
   "id": "cooked-briefing",
   "metadata": {},
   "source": [
    "To know:\n",
    "* Be able to create, read, update and delete data from a mysql table in Python\n",
    "* Understand the role of the cursor and connection\n",
    "* Iterate over returned data in cursor\n",
    "* INSERT data from a simple csv into a table in mysql\n",
    "* Difference between a backtick and a single quote\n",
    "* Show the autoincrement id after a transaction \n",
    "* Be able to send multiple insert statements at once with executemany"
   ]
  },
  {
   "cell_type": "markdown",
   "id": "overall-gambling",
   "metadata": {},
   "source": [
    "What can go wrong:\n",
    "* SQL syntax errors\n",
    "* Connection errors\n",
    "* Issues with fieldnames if you don't use backticks"
   ]
  }
 ],
 "metadata": {
  "kernelspec": {
   "display_name": "Python 3.10.6 64-bit",
   "language": "python",
   "name": "python3"
  },
  "language_info": {
   "codemirror_mode": {
    "name": "ipython",
    "version": 3
   },
   "file_extension": ".py",
   "mimetype": "text/x-python",
   "name": "python",
   "nbconvert_exporter": "python",
   "pygments_lexer": "ipython3",
   "version": "3.10.6"
  },
  "vscode": {
   "interpreter": {
    "hash": "2d4d69e597880b9b60eb0be4f89ec7c27c2bb88050820adbecd4ead6dbb8e32e"
   }
  }
 },
 "nbformat": 4,
 "nbformat_minor": 5
}

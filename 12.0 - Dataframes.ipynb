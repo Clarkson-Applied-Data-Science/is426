{
 "cells": [
  {
   "cell_type": "code",
   "execution_count": null,
   "metadata": {},
   "outputs": [],
   "source": [
    "# We can work with data in memory using the Pandas module. The convention is to import it\n",
    "#  with the name 'pd'\n",
    "import pandas as pd\n",
    "\n",
    "\n",
    "df  = pd.read_csv(\"data/wifi_list.csv\")\n",
    "df.head(3)\n",
    "\n",
    "#notice pandas creates an extra col. with no label - \n",
    "# #   This is the 'index' it is the main way we reference rows"
   ]
  },
  {
   "cell_type": "code",
   "execution_count": null,
   "metadata": {},
   "outputs": [],
   "source": [
    "# We can also create dataframes from lists of dictionaries\n",
    "\n",
    "homes  = [{'Rooms':8,'Bathroom':5,'Landsize':300,'Lattitude':-37.8079,'Longtitude':144.9934},\n",
    "    {'Rooms':8,'Bathroom':5,'Landsize':300,'Lattitude':-36,'Longtitude':143}]\n",
    "\n",
    "homes_df = pd.DataFrame(homes)\n",
    "homes_df.head()\n"
   ]
  },
  {
   "cell_type": "code",
   "execution_count": null,
   "metadata": {},
   "outputs": [],
   "source": [
    "# Although you can iterate over rows in a dataframe normally chaining method calls is better:\n",
    "df_result = df[['MAC','Channel','FirstSeen']].copy()\n",
    "df_result = df_result[df_result['Channel'].isin([6,11])] \n",
    "df_result"
   ]
  },
  {
   "cell_type": "code",
   "execution_count": null,
   "metadata": {},
   "outputs": [],
   "source": [
    "#  https://pandas.pydata.org/docs/reference/api/pandas.DataFrame.loc.html\n",
    "df.loc[7]"
   ]
  },
  {
   "cell_type": "code",
   "execution_count": null,
   "metadata": {},
   "outputs": [],
   "source": []
  },
  {
   "cell_type": "code",
   "execution_count": null,
   "metadata": {},
   "outputs": [],
   "source": [
    "# create new df with Authmode column removed:\n",
    "df2 = df.drop('AuthMode',axis=1)\n",
    "df2.head(2)"
   ]
  },
  {
   "cell_type": "code",
   "execution_count": null,
   "metadata": {},
   "outputs": [],
   "source": [
    "# add a new col as a datetime type\n",
    "df2['dt'] = pd.to_datetime(df2['FirstSeen'])\n",
    "print(df2['dt'])"
   ]
  },
  {
   "cell_type": "code",
   "execution_count": null,
   "metadata": {},
   "outputs": [],
   "source": [
    "#get unique counts of values\n",
    "df['Channel'].value_counts()"
   ]
  },
  {
   "cell_type": "code",
   "execution_count": null,
   "metadata": {},
   "outputs": [],
   "source": [
    "# using apply to apply some function to each row\n",
    "\n",
    "def filter_signal(row):\n",
    "    if row['RSSI'] > -70:\n",
    "        return 'best'\n",
    "    elif row['RSSI'] > -80:\n",
    "        return 'good'\n",
    "    else:\n",
    "        return 'poor'\n",
    "# create a new column with the result from our apply function\n",
    "# axis 1 is rows\n",
    "df2['signal_text'] = df2.apply(filter_signal,axis=1)\n",
    "df2.loc[:,['signal_text','RSSI']].head(10)"
   ]
  },
  {
   "cell_type": "code",
   "execution_count": null,
   "metadata": {},
   "outputs": [],
   "source": [
    "import pandas as pd\n",
    "\n",
    "\n",
    "df  = pd.read_csv(\"data/titanic.csv\")\n",
    "df.head()\n"
   ]
  },
  {
   "cell_type": "code",
   "execution_count": null,
   "metadata": {},
   "outputs": [],
   "source": [
    "df = df.dropna()\n",
    "df.head()\n"
   ]
  },
  {
   "cell_type": "code",
   "execution_count": null,
   "metadata": {},
   "outputs": [],
   "source": [
    "by_country = df.groupby('Home Country',as_index=False)['Age'].mean()"
   ]
  },
  {
   "cell_type": "code",
   "execution_count": null,
   "metadata": {},
   "outputs": [],
   "source": [
    "by_country.columns = ['country', 'average_age']\n",
    "by_country"
   ]
  },
  {
   "cell_type": "code",
   "execution_count": null,
   "metadata": {},
   "outputs": [],
   "source": [
    "import matplotlib.pyplot as plt\n",
    "\n",
    "fig = plt.figure(figsize = (10, 5))\n",
    " \n",
    "# creating the bar plot\n",
    "plt.bar(by_country['country'], by_country['average_age'], color ='maroon', width = 0.4)\n",
    " \n",
    "plt.xlabel(\"Country\")\n",
    "plt.ylabel(\"Average Age\")\n",
    "plt.title(\"Average Ages by Country\")\n",
    "plt.show()"
   ]
  }
 ],
 "metadata": {
  "kernelspec": {
   "display_name": "Python 3.10.6 64-bit",
   "language": "python",
   "name": "python3"
  },
  "language_info": {
   "codemirror_mode": {
    "name": "ipython",
    "version": 3
   },
   "file_extension": ".py",
   "mimetype": "text/x-python",
   "name": "python",
   "nbconvert_exporter": "python",
   "pygments_lexer": "ipython3",
   "version": "3.10.6"
  },
  "orig_nbformat": 4,
  "vscode": {
   "interpreter": {
    "hash": "2d4d69e597880b9b60eb0be4f89ec7c27c2bb88050820adbecd4ead6dbb8e32e"
   }
  }
 },
 "nbformat": 4,
 "nbformat_minor": 2
}

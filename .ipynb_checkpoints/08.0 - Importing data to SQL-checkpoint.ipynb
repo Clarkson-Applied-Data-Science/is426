{
 "cells": [
  {
   "cell_type": "code",
   "execution_count": null,
   "id": "ded3782b-cf28-4686-9309-e4a6e1469c2a",
   "metadata": {},
   "outputs": [],
   "source": [
    "# create a script which imports all data from data/wifi_list.csv to mysql"
   ]
  },
  {
   "cell_type": "code",
   "execution_count": null,
   "id": "dbc99867-765c-4b41-bf16-bfa75fedbde9",
   "metadata": {},
   "outputs": [],
   "source": [
    "# create a script which imports all Atlantic storms data from data/storms.csv"
   ]
  },
  {
   "cell_type": "code",
   "execution_count": null,
   "id": "9fb89c66-b58a-464e-b07f-f9ea22df6be2",
   "metadata": {},
   "outputs": [],
   "source": [
    "# Create a script which queries the table and shows the names of all category 4 \n",
    "#    storms in the atlantic"
   ]
  },
  {
   "cell_type": "code",
   "execution_count": null,
   "id": "82a03be0-f22b-4986-a6ee-ae9def3eaed2",
   "metadata": {},
   "outputs": [],
   "source": [
    "# Write a script which generates a CSV from the data above."
   ]
  },
  {
   "cell_type": "code",
   "execution_count": null,
   "id": "26d8ff81-7cda-4c8a-b472-1927be04b532",
   "metadata": {},
   "outputs": [],
   "source": [
    "# Write a script which generates 4 CSV files each with storms from that\n",
    "#    category from the table created above."
   ]
  },
  {
   "cell_type": "code",
   "execution_count": null,
   "id": "9e577d65-fa16-452d-a325-9d528e3ad6c5",
   "metadata": {},
   "outputs": [],
   "source": [
    "#  Create a table in mysql for the data in metars.txt.  \n",
    "#      Discuss the fields and field types required"
   ]
  },
  {
   "cell_type": "code",
   "execution_count": null,
   "id": "250e99ce-0b4e-4881-a198-282f7e842e4e",
   "metadata": {},
   "outputs": [],
   "source": [
    "# Write a script to insert the metar data using executemany()"
   ]
  }
 ],
 "metadata": {
  "kernelspec": {
   "display_name": "Python 3 (ipykernel)",
   "language": "python",
   "name": "python3"
  },
  "language_info": {
   "codemirror_mode": {
    "name": "ipython",
    "version": 3
   },
   "file_extension": ".py",
   "mimetype": "text/x-python",
   "name": "python",
   "nbconvert_exporter": "python",
   "pygments_lexer": "ipython3",
   "version": "3.10.6"
  }
 },
 "nbformat": 4,
 "nbformat_minor": 5
}

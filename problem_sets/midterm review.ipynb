{
 "cells": [
  {
   "cell_type": "code",
   "execution_count": null,
   "id": "61d5cd46-f6d2-4fe0-95fd-fbba3c8245ec",
   "metadata": {},
   "outputs": [],
   "source": [
    "\n",
    "#1Describe the types of the variables below \n",
    "# (answer should be in a python comment next to the var.):\n",
    "a = 12\n",
    "b = 12.11111\n",
    "c = True\n",
    "d = None\n",
    "e = \"Python!\"\n",
    "f = ''\n",
    "g = ['']\n",
    "h = [{}]\n",
    "i = {'a':[1,2,3]}\n"
   ]
  },
  {
   "cell_type": "code",
   "execution_count": null,
   "id": "299f47b9-326f-46d9-9171-13e4f0d0db31",
   "metadata": {},
   "outputs": [],
   "source": []
  },
  {
   "cell_type": "code",
   "execution_count": 2,
   "id": "f2ad75b0-433d-4b29-b801-8fe2d18e575d",
   "metadata": {},
   "outputs": [],
   "source": [
    "# 2 Loop through the list l and print all items which are non numbers.  \n",
    "# #Use try / except to determine if a value is a number\n",
    "l = [\"1\",\"2\",\"b\",\"d\",\"1.2\",\"e\",\"test3\"]\n",
    "\n"
   ]
  },
  {
   "cell_type": "code",
   "execution_count": null,
   "id": "97cf5e81-8e44-4e73-86e1-3e0d98d26084",
   "metadata": {},
   "outputs": [],
   "source": [
    "# 3 Create a loop which iterates over the dictionary below and prints skus which contain 'q'\n",
    "products = {'sku-qs334': 12, 'sku-ww23':5, 'sku-qs22':13, 'sku-123':7}"
   ]
  },
  {
   "cell_type": "code",
   "execution_count": null,
   "id": "21e219cd-15bc-49ee-aab0-71088093d72d",
   "metadata": {},
   "outputs": [],
   "source": [
    "# 4 Create a loop which iterates over the dictionary below and prints skus which \n",
    "#      contain 'w' having a quantity over 10\n",
    "products = {'sku-qs334': 12, 'sku-ww23':5, 'sku-qw22':13, 'sku-123':7}"
   ]
  },
  {
   "cell_type": "code",
   "execution_count": null,
   "id": "723b4cfb-1543-4b65-aeac-433b0ffa9360",
   "metadata": {},
   "outputs": [],
   "source": [
    "#  5 Iterate over the list of dictionaries data.  Print any mac address which contains 'fa'\n",
    "data = [{'MAC': 'e0:91:f5:de:fa:4f', 'SSID': 'NETGEAR-5G'}, \n",
    "        {'MAC': 'e2:91:f5:de:fa:51', 'SSID': 'CPH_Guest'}, \n",
    "        {'MAC': 'e0:91:f5:de:fa:50', 'SSID': 'CPH-5'},\n",
    "        {'MAC': 'e0:91:f5:5e:34:60', 'SSID': 'Clarkson'}]"
   ]
  },
  {
   "cell_type": "code",
   "execution_count": null,
   "id": "d564839d-9619-413a-8d36-e31ff57b6bb6",
   "metadata": {},
   "outputs": [],
   "source": [
    "# 6 Read the string s in and create a list of dictionaries each with the keys: name,email,id\n",
    "s = '''Tom,t@company.com,123\n",
    "Jim,j@company.com,124\n",
    "Kim,k@company.com,125'''\n",
    "\n"
   ]
  },
  {
   "cell_type": "code",
   "execution_count": null,
   "id": "0e3c745f-95fe-41b6-9417-a48708a428e4",
   "metadata": {},
   "outputs": [],
   "source": [
    "# 7 Create a loop which prints valid datetimes in the format YYYY-MM-DD HH:MM:SS\n",
    "dl = ['July 5th, 1990 12:51pm','August 9th, 1995 16:22pm','June 24th, 2015 24:22pm','June 22th, 2015 20:22pm']\n"
   ]
  },
  {
   "cell_type": "code",
   "execution_count": 1,
   "id": "7f42efbd-05cc-4352-b580-486f0eb2b316",
   "metadata": {},
   "outputs": [],
   "source": [
    "import csv\n",
    "\n",
    "fn = '../data/wifi_list.csv'\n",
    "\n",
    "with open(fn,encoding='utf-8') as f:\n",
    "    data = [{k: str(v) for k, v in row.items()}\n",
    "        for row in csv.DictReader(f, skipinitialspace=True)]\n",
    "    \n"
   ]
  },
  {
   "cell_type": "code",
   "execution_count": null,
   "id": "722d21a1-a73a-4a82-adbe-3608f6b0ba60",
   "metadata": {},
   "outputs": [],
   "source": [
    "# 8 Write a script which prints the field names from the wifi csv.\n",
    "#   Print one field per line.\n"
   ]
  },
  {
   "cell_type": "code",
   "execution_count": null,
   "id": "0867b494-ab5f-4560-9977-34d65dad8a31",
   "metadata": {},
   "outputs": [],
   "source": [
    "# 9 Write a script which prints ssids which contain 'cph'. (case insensitive)\n",
    "#  One ssid per line \n"
   ]
  },
  {
   "cell_type": "code",
   "execution_count": null,
   "id": "1b770839-a79b-439d-9510-fd95aeb4d3de",
   "metadata": {},
   "outputs": [],
   "source": [
    "# 10 Create a script which Creates a script which loads all ssids containing clarkson to a list."
   ]
  },
  {
   "cell_type": "code",
   "execution_count": null,
   "id": "1d8803dc-9a63-4d6e-9918-de2d16e32502",
   "metadata": {},
   "outputs": [],
   "source": [
    "# 11 Print a list of the number of access points per channel.  This is a group by question.\n",
    "#  (Hint: create a dictionary where the keys are the channel number and the count is the value)\n"
   ]
  },
  {
   "cell_type": "code",
   "execution_count": null,
   "id": "0a89319e-3e23-4de1-8575-abbf546754c7",
   "metadata": {},
   "outputs": [],
   "source": [
    "# 12 Create a script which  Prints all ssids where the 'rssi' is greater than -80.  Remember to use proper try/except int conversion."
   ]
  },
  {
   "cell_type": "code",
   "execution_count": null,
   "id": "ebf3269f-c61a-4f88-b100-1c10b50c6a9e",
   "metadata": {},
   "outputs": [],
   "source": [
    "# 13 Create a script which finds the min and max rssi"
   ]
  },
  {
   "cell_type": "code",
   "execution_count": null,
   "id": "b3e40e5a-4a55-4344-9fd9-7c1ebea7b9e4",
   "metadata": {},
   "outputs": [],
   "source": []
  },
  {
   "cell_type": "code",
   "execution_count": null,
   "id": "21780cca-35e6-48fd-b23e-43e3ef1679bc",
   "metadata": {},
   "outputs": [],
   "source": [
    "# 14 Read the file 'flights.json' and deserialize it to a variable called 'jdata'"
   ]
  },
  {
   "cell_type": "code",
   "execution_count": null,
   "id": "0f71b839-4316-4215-bb7c-f713786fd7fe",
   "metadata": {},
   "outputs": [],
   "source": [
    "# 15 Inspect the flights.json file.  How many top level keys does it have?"
   ]
  },
  {
   "cell_type": "code",
   "execution_count": null,
   "id": "364da71e-5e11-4e18-b07e-352ee0d1b928",
   "metadata": {},
   "outputs": [],
   "source": [
    "# 16 Print the flight id 'flight', 'lon' and 'lat' of the 5th aircraft in the list."
   ]
  },
  {
   "cell_type": "code",
   "execution_count": null,
   "id": "9994d9fb-9379-4dad-8cdb-d6560ad8b6bc",
   "metadata": {},
   "outputs": [],
   "source": [
    "# 17 Print the 'hex' for each aircraft in the list.  "
   ]
  },
  {
   "cell_type": "code",
   "execution_count": null,
   "id": "311b2919-0236-43c4-8fb6-2573fcd7ac4b",
   "metadata": {},
   "outputs": [],
   "source": [
    "# 18 Iterate over each 'aircraft' node.  Print the 'hex' identifier and the groundspeed ('gs') if available."
   ]
  },
  {
   "cell_type": "code",
   "execution_count": null,
   "id": "b3c66990-790c-4fa4-bd3a-1af2643f23a1",
   "metadata": {},
   "outputs": [],
   "source": [
    "# 19 Create a script which generates a single list of all the 'mlat' integers in the dataset."
   ]
  },
  {
   "cell_type": "code",
   "execution_count": null,
   "id": "8af82921-ff71-4532-bf2d-3e16e221a1c3",
   "metadata": {},
   "outputs": [],
   "source": [
    "# 20 Create a script which creates a SQL table names '{username}_flights' in the is426 DB and inserts the fields \n",
    "#   'hex' 'flight' 'gs' 'lat' and 'lon' from flights.json\n",
    "# Note: if a field is not present you may insert it in the table as 'None'"
   ]
  },
  {
   "cell_type": "code",
   "execution_count": null,
   "id": "f99848f5-a53e-46a2-bf8d-3498cc910ff2",
   "metadata": {},
   "outputs": [],
   "source": [
    "# 21 Create a script which runs the SQL query below and stores the results in a list of dictionaries\n",
    "# SELECT * FROM {username}_flights WHERE flight is not NULL ORDER BY `hex`;"
   ]
  },
  {
   "cell_type": "code",
   "execution_count": null,
   "id": "7054de4f-21fc-495b-8335-25b845228067",
   "metadata": {},
   "outputs": [],
   "source": [
    "# 22  Create a JSON schema for the following:\n",
    "# A retailer needs to store information about products sold.  \n",
    "# The retailer has multiple locations.  Each location checks out \n",
    "# cars from customers.  The reatailer needs to record items skus, name, quantity \n",
    "# sales tax and line total.  Items also have categories.  The retailer needs\n",
    "# to store some basic information about the paymnt type and customer \n",
    "# zipcode and phone number."
   ]
  }
 ],
 "metadata": {
  "kernelspec": {
   "display_name": "Python 3 (ipykernel)",
   "language": "python",
   "name": "python3"
  },
  "language_info": {
   "codemirror_mode": {
    "name": "ipython",
    "version": 3
   },
   "file_extension": ".py",
   "mimetype": "text/x-python",
   "name": "python",
   "nbconvert_exporter": "python",
   "pygments_lexer": "ipython3",
   "version": "3.10.6"
  }
 },
 "nbformat": 4,
 "nbformat_minor": 5
}
